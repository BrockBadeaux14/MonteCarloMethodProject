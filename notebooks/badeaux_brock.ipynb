{
 "cells": [
  {
   "cell_type": "markdown",
   "id": "1283dfaf",
   "metadata": {},
   "source": [
    "Before starting make sure to attach a kernal with numpy and matplotlib installed."
   ]
  },
  {
   "cell_type": "code",
   "execution_count": 2,
   "id": "1c74e19d",
   "metadata": {},
   "outputs": [],
   "source": [
    "import numpy as np\n",
    "import matplotlib.pyplot as plt\n",
    "from math import pi"
   ]
  },
  {
   "cell_type": "markdown",
   "id": "65b6f89d",
   "metadata": {},
   "source": [
    "# Introduction\n",
    "For our esitmation of pi, we are using the Monte Carlo method. [Wikipedia](https://en.wikipedia.org/wiki/Monte_Carlo_method#:~:text=Monte%20Carlo%20methods%2C%20or%20Monte,might%20be%20deterministic%20in%20principle.) has a verbose article and was the main source I used in the creation of my algoithm. Monte Carlo methods tend to follow a pattern of first defining a domain of possible inputs, generating inputs from some proability distribution over the domain, performing some deterministic computation of the outputs and finally aggregating the results. \n",
    "\n",
    "# Approximating $\\pi$\n",
    "\n",
    "Define domain $D = \\{(x,y) \\in \\mathbb{R}^2 | -1 \\le x \\le 1 \\text{ and } -1 \\le y \\le 1 \\} $. \n",
    "\n",
    "Define n to be the amount of points containted in D and r to be the amount of points within an inscribed unit circle. \n",
    "\n",
    "By assuming that the ratio's of surface area should relate to the ratio of points r and n we have the approximation. \n",
    "\n",
    "$\\frac{\\pi}{4}\\approx \\frac{r}{n}$\n",
    "\n",
    "$\\pi \\approx \\frac{4 * r}{n}$"
   ]
  },
  {
   "cell_type": "code",
   "execution_count": null,
   "id": "64336ca9",
   "metadata": {},
   "outputs": [],
   "source": [
    "#Monte Carlo pi estimator\n",
    "def estimate_pi(n):\n",
    "    #Create random points within unit square\n",
    "    x = np.random.uniform(-1,1,n)\n",
    "    y = np.random.uniform(-1,1,n)\n",
    "    \n",
    "    #Get sum of all points where the distance from center \n",
    "    # is less than 1 (inside unit circle)\n",
    "    r = np.sum(np.sqrt((x)**2+(y)**2)<1)\n",
    "\n",
    "    return 4 * r / n"
   ]
  },
  {
   "cell_type": "code",
   "execution_count": null,
   "id": "c00598b7",
   "metadata": {},
   "outputs": [],
   "source": [
    "#Part 2 Convergence with n_range\n",
    "#make n_range by estimation type array to store pi estimates for differnt functions\n",
    "\n",
    "n_range = np.logspace(2, 8, num = 100, base=10, dtype = 'int64')\n",
    "est_pi_list = np.zeros((100,), dtype=np.float64)\n",
    "error_list = np.zeros((100,), dtype=np.float64)\n",
    "\n",
    "for i, n in enumerate(n_range):\n",
    "    est_pi = estimate_pi(n)\n",
    "    est_pi_list[i] = est_pi\n",
    "    error_list[i] = abs(est_pi - pi)\n",
    "\n",
    "#Plotting results\n",
    "plt.figure(figsize=(10,5))\n",
    "plt.subplot(1,2,1)\n",
    "plt.plot(n_range, est_pi_list, label='Estimated Pi')\n",
    "plt.axhline(y=pi, color='r', linestyle='--', label='Actual Pi')\n",
    "plt.xscale('log')\n",
    "plt.xlabel('Number of Samples (n)')\n",
    "plt.ylabel('Estimated Pi Value')\n",
    "plt.title('Monte Carlo Pi Estimation')\n",
    "plt.legend()\n",
    "plt.grid()\n",
    "plt.subplot(1,2,2)\n",
    "plt.plot(n_range, error_list, label='Absolute Error', color='orange')\n",
    "plt.xscale('log')\n",
    "plt.yscale('log')\n",
    "plt.xlabel('Number of Samples (n)')\n",
    "plt.ylabel('Absolute Error')\n",
    "plt.title('Error in Pi Estimation')\n",
    "plt.legend()\n",
    "plt.grid()\n",
    "plt.tight_layout()\n",
    "plt.show()"
   ]
  },
  {
   "cell_type": "code",
   "execution_count": 75,
   "id": "5b140713",
   "metadata": {},
   "outputs": [],
   "source": [
    "def RSamplesOfPi(r, n):\n",
    "    rOfN = np.zeros((r,))\n",
    "    for i in range(r):\n",
    "        rOfN[i] = estimate_pi(n)\n",
    "    return rOfN"
   ]
  },
  {
   "cell_type": "code",
   "execution_count": 80,
   "id": "6cd85503",
   "metadata": {},
   "outputs": [
    {
     "name": "stdout",
     "output_type": "stream",
     "text": [
      "Sample 1 Mean: 3.1431360000000006, Std Dev: 0.050876689200458035\n",
      "Sample 2 Mean: 3.1418008, Std Dev: 0.0160521051379562\n",
      "Sample 3 Mean: 3.1418545599999996, Std Dev: 0.004843710231465132\n",
      "Sample 4 Mean: 3.1416013279999997, Std Dev: 0.001634509099520707\n"
     ]
    },
    {
     "data": {
      "image/png": "[encoded data removed]",
      "text/plain": [
       "<Figure size 640x480 with 1 Axes>"
      ]
     },
     "metadata": {},
     "output_type": "display_data"
    }
   ],
   "source": [
    "\n",
    "sample1 = np.array(RSamplesOfPi(500,10**3))\n",
    "sample2 = np.array(RSamplesOfPi(500,10**4))\n",
    "sample3 = np.array(RSamplesOfPi(500,10**5))\n",
    "sample4 = np.array(RSamplesOfPi(500,10**6))\n",
    "\n",
    "print(f\"Sample 1 Mean: {np.mean(sample1)}, Std Dev: {np.std(sample1)}\")\n",
    "print(f\"Sample 2 Mean: {np.mean(sample2)}, Std Dev: {np.std(sample2)}\")\n",
    "print(f\"Sample 3 Mean: {np.mean(sample3)}, Std Dev: {np.std(sample3)}\")\n",
    "print(f\"Sample 4 Mean: {np.mean(sample4)}, Std Dev: {np.std(sample4)}\")\n",
    "\n",
    "plt.hist(sample1, bins=50, alpha=0.5, label='n=10^3')\n",
    "plt.hist(sample2, bins=50, alpha=0.5, label='n=10^4')\n",
    "plt.hist(sample3, bins=50, alpha=0.5, label='n=10^5')\n",
    "plt.hist(sample4, bins=50, alpha=0.5, label='n=10^6')\n",
    "plt.legend()\n",
    "plt.show()\n"
   ]
  }
 ],
 "metadata": {
  "kernelspec": {
   "display_name": "csc4444",
   "language": "python",
   "name": "python3"
  },
  "language_info": {
   "codemirror_mode": {
    "name": "ipython",
    "version": 3
   },
   "file_extension": ".py",
   "mimetype": "text/x-python",
   "name": "python",
   "nbconvert_exporter": "python",
   "pygments_lexer": "ipython3",
   "version": "3.13.7"
  }
 },
 "nbformat": 4,
 "nbformat_minor": 5
}
